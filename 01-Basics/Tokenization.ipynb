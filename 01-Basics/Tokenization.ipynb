{
 "cells": [
  {
   "cell_type": "code",
   "execution_count": 16,
   "metadata": {},
   "outputs": [],
   "source": [
    "import nltk\n",
    "from nltk.tokenize import sent_tokenize, word_tokenize,RegexpTokenizer,TreebankWordTokenizer\n",
    "from nltk.tokenize import PunktTokenizer,PunktSentenceTokenizer,WordPunctTokenizer\n",
    "import matplotlib.pyplot as plt\n",
    "from nltk import FreqDist\n",
    "\n"
   ]
  },
  {
   "cell_type": "markdown",
   "metadata": {},
   "source": [
    "### Tokenization\n",
    "\n",
    "**Tokenization** is the process of breaking down a text or sentence into smaller units called *tokens*. Tokens can be words, subwords, or even characters, depending on the level of granularity required. This is often the first step in Natural Language Processing (NLP) tasks as it transforms raw text into a structured format suitable for analysis or modeling.\n",
    "\n",
    "#### Example:\n",
    "For the sentence:\n",
    "> *\"Natural Language Processing is fascinating!\"*\n",
    "\n",
    "- **Word-level tokens:** `[\"Natural\", \"Language\", \"Processing\", \"is\", \"fascinating\", \"!\"]`\n",
    "- **Character-level tokens:** `[\"N\", \"a\", \"t\", \"u\", \"r\", \"a\", \"l\", \" \", \"L\", \"a\", \"n\", \"g\", ...]`\n",
    "\n",
    "#### Why Tokenization is Important:\n",
    "1. **Prepares text for analysis:** It converts unstructured text into a structured format.\n",
    "2. **Key to NLP models:** Most models require input as tokens (e.g., words, subwords).\n",
    "3. **Enables flexibility:** Different tokenization techniques are suited to various tasks, such as sentiment analysis, machine translation, or question answering.\n"
   ]
  },
  {
   "cell_type": "markdown",
   "metadata": {},
   "source": [
    "| **Tokenizer**                | **Description**                                                                                                    | **When to Use**                                                                                       | **Why to Use**                                                                                           | **Key Features**                                                                                                                                                       | **Limitations**                                                                                                     |\n",
    "|-------------------------------|--------------------------------------------------------------------------------------------------------------------|-------------------------------------------------------------------------------------------------------|-----------------------------------------------------------------------------------------------------------|-----------------------------------------------------------------------------------------------------------------------------------------------------------------------|---------------------------------------------------------------------------------------------------------------------|\n",
    "| **`word_tokenize`**          | Tokenizes text into words using the Penn Treebank tokenizer.                                                       | For general-purpose word tokenization on standard English text.                                        | Handles common contractions and punctuation effectively.                                                  | - Breaks text into words and punctuation. <br> - Includes contractions like \"don't\" as a single token.                                                   | May over-tokenize non-standard text or fail with non-English languages.                                             |\n",
    "| **`sent_tokenize`**          | Splits text into sentences using the Punkt Sentence Tokenizer.                                                     | When you need to segment a paragraph or document into sentences.                                       | Works well on large, unstructured text where sentence boundaries are not explicitly marked.               | - Pre-trained on English but can be trained on other languages. <br> - Handles abbreviations like \"Mr.\" correctly.                                         | Might misidentify sentence boundaries in complex or unusual text.                                                   |\n",
    "| **`RegexpTokenizer`**        | Tokenizes text based on custom regular expressions.                                                                | When you need custom tokenization rules, e.g., extracting numbers, hashtags, or specific patterns.    | Allows flexibility in defining patterns for specific use cases.                                           | - Fully customizable using regex. <br> - Can ignore unwanted tokens or focus on specific patterns like hashtags (`#example`).                             | Requires knowledge of regular expressions. <br> Not ideal for general-purpose use.                                 |\n",
    "| **`TreebankWordTokenizer`**  | A rule-based tokenizer similar to `word_tokenize` but slightly stricter.                                           | For structured or standardized English text where finer control over tokenization is required.         | Handles contractions and punctuation very precisely, adhering to Penn Treebank standards.                | - Treats possessive endings (`'s`) as separate tokens. <br> - Splits punctuation like `.,!?` into separate tokens.                                         | May over-split compared to `word_tokenize`.                                                                         |\n",
    "| **`TweetTokenizer`**         | Specially designed to tokenize social media text, including tweets and hashtags.                                   | When working with informal text, e.g., tweets, social media posts, or text with emojis.               | Handles hashtags, mentions, and emoticons effectively.                                                    | - Retains emojis, hashtags, and URLs. <br> - Can be configured to ignore or keep case sensitivity.                                                       | Limited to social media text. <br> Not ideal for structured or formal documents.                                    |\n",
    "| **`PunktSentenceTokenizer`** | A pre-trained unsupervised tokenizer for sentence boundary detection.                                               | For advanced sentence tokenization with text in different languages or domains.                       | Adapts to different writing styles and languages.                                                          | - Can be trained on custom data for better results. <br> - Handles abbreviations, ellipses, and quotes effectively.                                       | Training may be required for non-English or domain-specific text.                                                   |\n",
    "| **`WhitespaceTokenizer`**    | Splits text based on spaces.                                                                                        | For very simple and fast tokenization when whitespace separation is sufficient.                        | Minimal overhead and computationally efficient.                                                           | - Splits tokens strictly by spaces. <br> - Fastest tokenizer in NLTK.                                                                                   | Does not handle punctuation, contractions, or special tokens.                                                       |\n",
    "| **`WordPunctTokenizer`**     | Splits text into words and punctuation separately.                                                                  | When you need to treat punctuation as separate tokens explicitly.                                      | Useful for linguistic analysis that requires separating punctuation from words.                            | - Separates words and punctuation effectively. <br> - Retains special characters like `@` and `#` in tokens.                                             | Over-splits tokens in most practical scenarios.                                                                     |\n",
    "| **`MWETokenizer`**           | Multi-word expression tokenizer to tokenize phrases or idioms as single tokens.                                    | When working with text that contains phrases or multi-word expressions that should be treated as one. | Preserves meaningful multi-word expressions (e.g., \"New York\", \"credit card\") as single tokens.           | - Can be customized with multi-word expressions. <br> - Avoids splitting meaningful phrases.                                                            | Requires predefining the list of multi-word expressions.                                                            |\n"
   ]
  },
  {
   "cell_type": "code",
   "execution_count": 4,
   "metadata": {},
   "outputs": [
    {
     "data": {
      "text/plain": [
       "\"Hello, how are you doing today? NLTK is a powerful library for natural language processing. I'm learning tokenization—it's fun and exciting! The price of the laptop is $999.99, isn't it? He said, 'Python is amazing!' and I couldn't agree more. The meeting is scheduled for 10:30 A.M. on Monday, November 20th, 2024. Let's test tokenization on a variety of texts, like emails (example@mail.com) or URLs (https://www.example.com). The quick brown fox jumps over the lazy dog. 1234567890 - Numbers can be tokens too! Don't forget to test special characters: @, #, $, %, &, *, etc.\""
      ]
     },
     "execution_count": 4,
     "metadata": {},
     "output_type": "execute_result"
    }
   ],
   "source": [
    "corpus = [\n",
    "    \"Hello, how are you doing today?\",\n",
    "    \"NLTK is a powerful library for natural language processing.\",\n",
    "    \"I'm learning tokenization—it's fun and exciting!\",\n",
    "    \"The price of the laptop is $999.99, isn't it?\",\n",
    "    \"He said, 'Python is amazing!' and I couldn't agree more.\",\n",
    "    \"The meeting is scheduled for 10:30 A.M. on Monday, November 20th, 2024.\",\n",
    "    \"Let's test tokenization on a variety of texts, like emails (example@mail.com) or URLs (https://www.example.com).\",\n",
    "    \"The quick brown fox jumps over the lazy dog.\",\n",
    "    \"1234567890 - Numbers can be tokens too!\",\n",
    "    \"Don't forget to test special characters: @, #, $, %, &, *, etc.\"\n",
    "]\n",
    "\n",
    "corpus = ' '.join(corpus)\n",
    "corpus"
   ]
  },
  {
   "cell_type": "markdown",
   "metadata": {},
   "source": [
    "### Sentence Tokenization\n",
    "- Sentence tokenization divides a text into sentences. This is especially useful for text summarization and paragraph-based analysis."
   ]
  },
  {
   "cell_type": "code",
   "execution_count": 6,
   "metadata": {},
   "outputs": [
    {
     "data": {
      "text/plain": [
       "['Hello, how are you doing today?',\n",
       " 'NLTK is a powerful library for natural language processing.',\n",
       " \"I'm learning tokenization—it's fun and exciting!\",\n",
       " \"The price of the laptop is $999.99, isn't it?\",\n",
       " \"He said, 'Python is amazing!'\",\n",
       " \"and I couldn't agree more.\",\n",
       " 'The meeting is scheduled for 10:30 A.M. on Monday, November 20th, 2024.',\n",
       " \"Let's test tokenization on a variety of texts, like emails (example@mail.com) or URLs (https://www.example.com).\",\n",
       " 'The quick brown fox jumps over the lazy dog.',\n",
       " '1234567890 - Numbers can be tokens too!',\n",
       " \"Don't forget to test special characters: @, #, $, %, &, *, etc.\"]"
      ]
     },
     "execution_count": 6,
     "metadata": {},
     "output_type": "execute_result"
    }
   ],
   "source": [
    "# sent Tokenization: For breaking corpus(paragraph) into individual Documents(sentences).\n",
    "\n",
    "doc = sent_tokenize(corpus)\n",
    "doc"
   ]
  },
  {
   "cell_type": "markdown",
   "metadata": {},
   "source": [
    "### Word Tokenization\n",
    "- Word tokenization splits text into individual words. In many cases, this is the first step for most NLP tasks."
   ]
  },
  {
   "cell_type": "code",
   "execution_count": 7,
   "metadata": {},
   "outputs": [
    {
     "name": "stdout",
     "output_type": "stream",
     "text": [
      "['Hello', ',', 'how', 'are', 'you', 'doing', 'today', '?']\n",
      "['NLTK', 'is', 'a', 'powerful', 'library', 'for', 'natural', 'language', 'processing', '.']\n",
      "['I', \"'m\", 'learning', 'tokenization—it', \"'s\", 'fun', 'and', 'exciting', '!']\n",
      "['The', 'price', 'of', 'the', 'laptop', 'is', '$', '999.99', ',', 'is', \"n't\", 'it', '?']\n",
      "['He', 'said', ',', \"'Python\", 'is', 'amazing', '!', \"'\"]\n",
      "['and', 'I', 'could', \"n't\", 'agree', 'more', '.']\n",
      "['The', 'meeting', 'is', 'scheduled', 'for', '10:30', 'A.M.', 'on', 'Monday', ',', 'November', '20th', ',', '2024', '.']\n",
      "['Let', \"'s\", 'test', 'tokenization', 'on', 'a', 'variety', 'of', 'texts', ',', 'like', 'emails', '(', 'example', '@', 'mail.com', ')', 'or', 'URLs', '(', 'https', ':', '//www.example.com', ')', '.']\n",
      "['The', 'quick', 'brown', 'fox', 'jumps', 'over', 'the', 'lazy', 'dog', '.']\n",
      "['1234567890', '-', 'Numbers', 'can', 'be', 'tokens', 'too', '!']\n",
      "['Do', \"n't\", 'forget', 'to', 'test', 'special', 'characters', ':', '@', ',', '#', ',', '$', ',', '%', ',', '&', ',', '*', ',', 'etc', '.']\n"
     ]
    }
   ],
   "source": [
    "# word Tokenization: For breaking Document(sentences) into individual words.\n",
    "\n",
    "for sentence in doc:\n",
    "    print(word_tokenize(sentence))"
   ]
  },
  {
   "cell_type": "code",
   "execution_count": 14,
   "metadata": {},
   "outputs": [
    {
     "data": {
      "text/plain": [
       "['Hello', ',', 'how', 'are']"
      ]
     },
     "execution_count": 14,
     "metadata": {},
     "output_type": "execute_result"
    }
   ],
   "source": [
    "#Breaking the corpus into words\n",
    "word_tokenized = word_tokenize(corpus)\n",
    "word_tokenized[:4]"
   ]
  },
  {
   "cell_type": "markdown",
   "metadata": {},
   "source": [
    "### Regex Tokenization\n",
    "- can use regular expressions to create custom tokenizers.\n",
    "- This can be useful when you want to capture specific patterns like emails or hashtags."
   ]
  },
  {
   "cell_type": "code",
   "execution_count": 12,
   "metadata": {},
   "outputs": [
    {
     "name": "stdout",
     "output_type": "stream",
     "text": [
      "['NLP', 'is', 'great', 'isn', 't', 'it']\n"
     ]
    }
   ],
   "source": [
    "\n",
    "tokenizer = RegexpTokenizer(r'\\w+')\n",
    "text = \"NLP is great, isn't it?\"\n",
    "print(tokenizer.tokenize(text))"
   ]
  },
  {
   "cell_type": "markdown",
   "metadata": {},
   "source": [
    "### Treebank Tokenizer\n",
    "- Treebank tokenization is a more advanced tokenizer that splits words using rules and is often used in linguistic parsing."
   ]
  },
  {
   "cell_type": "code",
   "execution_count": 13,
   "metadata": {},
   "outputs": [
    {
     "name": "stdout",
     "output_type": "stream",
     "text": [
      "['They', \"'re\", 'running', 'late', '.']\n"
     ]
    }
   ],
   "source": [
    "tokenizer = TreebankWordTokenizer()\n",
    "text = \"They're running late.\"\n",
    "print(tokenizer.tokenize(text))"
   ]
  },
  {
   "cell_type": "markdown",
   "metadata": {},
   "source": [
    "### Applications of Tokenization\n",
    "- Tokenization is essential for many NLP tasks:\n",
    "\n",
    "**Sentiment Analysis**: Analyzing the sentiment of a text by processing tokenized words.\n",
    "\n",
    "**Machine Translation**: Translating text from one language to another.\n",
    "\n",
    "**Text Summarization**: Condensing a document by tokenizing and then analyzing the content.\n",
    "\n",
    "**Language Modeling**: Building models that predict the next word or sentence in a sequence."
   ]
  },
  {
   "cell_type": "markdown",
   "metadata": {},
   "source": [
    "## Token Viz\n",
    "\n",
    "- Token frequency visualization can help you understand the distribution of words in a text. You can plot token frequencies using matplotlib"
   ]
  },
  {
   "cell_type": "code",
   "execution_count": 17,
   "metadata": {},
   "outputs": [
    {
     "data": {
      "text/plain": [
       "<Axes: title={'center': 'Token Frequency'}, xlabel='Samples', ylabel='Counts'>"
      ]
     },
     "execution_count": 17,
     "metadata": {},
     "output_type": "execute_result"
    },
    {
     "data": {
      "image/png": "[encoded data removed]",
      "text/plain": [
       "<Figure size 640x480 with 1 Axes>"
      ]
     },
     "metadata": {},
     "output_type": "display_data"
    }
   ],
   "source": [
    "tokens = word_tokenize(\"Natural Language Processing is fascinating!\")\n",
    "freq_dist = FreqDist(tokens)\n",
    "freq_dist.plot(10, title=\"Token Frequency\")"
   ]
  },
  {
   "cell_type": "code",
   "execution_count": null,
   "metadata": {},
   "outputs": [],
   "source": []
  }
 ],
 "metadata": {
  "kernelspec": {
   "display_name": "venv",
   "language": "python",
   "name": "python3"
  },
  "language_info": {
   "codemirror_mode": {
    "name": "ipython",
    "version": 3
   },
   "file_extension": ".py",
   "mimetype": "text/x-python",
   "name": "python",
   "nbconvert_exporter": "python",
   "pygments_lexer": "ipython3",
   "version": "3.12.6"
  }
 },
 "nbformat": 4,
 "nbformat_minor": 2
}
